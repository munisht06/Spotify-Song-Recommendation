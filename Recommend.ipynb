{
 "cells": [
  {
   "cell_type": "code",
   "execution_count": 1,
   "id": "f7a97724",
   "metadata": {},
   "outputs": [],
   "source": [
    "import numpy as np\n",
    "import pandas as pd\n",
    "import spotipy\n",
    "import os\n",
    "from spotipy.oauth2 import SpotifyClientCredentials\n",
    "from collections import defaultdict\n",
    "import spotify_api as cred\n",
    "from scipy.spatial.distance import cdist\n",
    "from sklearn.metrics import euclidean_distances\n",
    "import difflib\n",
    "from sklearn.cluster import KMeans\n",
    "from sklearn.preprocessing import StandardScaler\n",
    "from sklearn.preprocessing import MinMaxScaler\n",
    "from sklearn.pipeline import Pipeline\n",
    "\n",
    "number_cols = ['valence', 'year', 'acousticness', 'danceability', 'duration_ms', 'energy', 'explicit',\n",
    " 'instrumentalness', 'key', 'liveness', 'loudness', 'mode', 'popularity', 'speechiness', 'tempo']\n",
    "sp = spotipy.Spotify(auth_manager=SpotifyClientCredentials(client_id=cred.CLIENT_ID, client_secret=cred.CLIENT_SECRET))\n",
    "df_spotify = pd.read_csv('./data/data_o.csv')"
   ]
  },
  {
   "cell_type": "code",
   "execution_count": 9,
   "id": "ea09b651",
   "metadata": {},
   "outputs": [],
   "source": [
    "cluster_pipeline_song = Pipeline([('scaler', StandardScaler()), ('kmeans', KMeans(n_clusters=20))])\n",
    "X = df_spotify.select_dtypes(np.number)\n",
    "df_spotify['cluster'] = cluster_pipeline_song.fit_predict(X)"
   ]
  },
  {
   "cell_type": "code",
   "execution_count": 12,
   "id": "2799234b",
   "metadata": {},
   "outputs": [],
   "source": [
    "df_spotify.to_csv('spotify_data.csv')"
   ]
  },
  {
   "cell_type": "code",
   "execution_count": 10,
   "id": "b5c93ced",
   "metadata": {},
   "outputs": [],
   "source": [
    "# https://www.kaggle.com/artempozdniakov/spotify-data-eda-and-music-recommendation\n",
    "def search_song(name, year):\n",
    "    song_data = defaultdict()\n",
    "    results = sp.search(q='track: {} year: {}'.format(name, year), limit=1)\n",
    "    if results['tracks']['items'] == []:\n",
    "        return None\n",
    "    \n",
    "    results = results['tracks']['items'][0]\n",
    "\n",
    "    audio_features = sp.audio_features(results['id'])[0]\n",
    "    \n",
    "    song_data['name'] = [name]\n",
    "    song_data['year'] = [year]\n",
    "    song_data['explicit'] = [int(results['explicit'])]\n",
    "    song_data['duration_ms'] = [results['duration_ms']]\n",
    "    song_data['popularity'] = [results['popularity']]\n",
    "    \n",
    "    for k,v in audio_features.items():\n",
    "        song_data[k] = v\n",
    "    \n",
    "    return pd.DataFrame(song_data)\n",
    "\n",
    "def get_mean_vector(song_list, spotify_data):\n",
    "    song_vectors = []\n",
    "    for song in song_list:\n",
    "        song_data = None\n",
    "        try:\n",
    "            song_data = spotify_data[(spotify_data['name'].str.lower() == song['name'].lower()) &\n",
    "                                     (spotify_data['year'] == song['year'])].iloc[0]\n",
    "        except IndexError:\n",
    "            song_data = search_song(song['name'], song['year'])\n",
    "        if song_data is None:\n",
    "            print('Song not found')\n",
    "            continue\n",
    "        song_vectors.append(song_data[number_cols].values)\n",
    "\n",
    "    return np.mean(np.array(song_vectors,dtype=\"object\"), axis=0)\n",
    "\n",
    "def combined_data_dict(dict_list):\n",
    "    combined_data = {}\n",
    "    for dictionary in dict_list:\n",
    "        for key, value in dictionary.items():\n",
    "            if key in combined_data.keys():\n",
    "                combined_data[key].append(value)\n",
    "            else:\n",
    "                combined_data[key] = [value]\n",
    "    return combined_data\n",
    "\n",
    "def recommend_songs(song_list, spotify_data, n_songs=10):\n",
    "    metadata_cols = ['name', 'year', 'artists']\n",
    "    song_dict = combined_data_dict(song_list)\n",
    "    \n",
    "    song_center = get_mean_vector(song_list, spotify_data)\n",
    "    scaler = StandardScaler().fit(spotify_data[number_cols])\n",
    "    scaled_data = scaler.transform(spotify_data[number_cols])\n",
    "    scaled_song_center = scaler.transform(song_center.reshape(1,-1))\n",
    "    distances = cdist(scaled_song_center, scaled_data, 'cosine')\n",
    "    index = list(np.argsort(distances)[:, :n_songs][0])\n",
    "    rec_songs = spotify_data.iloc[index]\n",
    "    rec_songs = rec_songs[~rec_songs['name'].isin(song_dict['name'])]\n",
    "    return rec_songs[metadata_cols].to_dict(orient='records')\n"
   ]
  },
  {
   "cell_type": "code",
   "execution_count": 11,
   "id": "84b8ee8d",
   "metadata": {},
   "outputs": [
    {
     "data": {
      "text/plain": [
       "[{'name': 'Life is a Highway - From \"Cars\"',\n",
       "  'year': 2009,\n",
       "  'artists': \"['Rascal Flatts']\"},\n",
       " {'name': 'Of Wolf And Man', 'year': 1991, 'artists': \"['Metallica']\"},\n",
       " {'name': 'Somebody Like You', 'year': 2002, 'artists': \"['Keith Urban']\"},\n",
       " {'name': 'Kayleigh', 'year': 1992, 'artists': \"['Marillion']\"},\n",
       " {'name': 'Corazón Mágico', 'year': 1995, 'artists': \"['Los Fugitivos']\"},\n",
       " {'name': 'Little Secrets', 'year': 2009, 'artists': \"['Passion Pit']\"},\n",
       " {'name': 'No Excuses', 'year': 1994, 'artists': \"['Alice In Chains']\"},\n",
       " {'name': 'If Today Was Your Last Day',\n",
       "  'year': 2008,\n",
       "  'artists': \"['Nickelback']\"},\n",
       " {'name': \"Let's Get Rocked\", 'year': 1992, 'artists': \"['Def Leppard']\"},\n",
       " {'name': \"Things I'll Never Say\",\n",
       "  'year': 2002,\n",
       "  'artists': \"['Avril Lavigne']\"}]"
      ]
     },
     "execution_count": 11,
     "metadata": {},
     "output_type": "execute_result"
    }
   ],
   "source": [
    "recommend_songs([{'name': 'Come As You Are', 'year':1991},\n",
    "                {'name': 'Smells Like Teen Spirit', 'year': 1991},\n",
    "                {'name': 'Lithium', 'year': 1992},\n",
    "                {'name': 'All Apologies', 'year': 1993},\n",
    "                {'name': 'Stay Away', 'year': 1993}],  df_spotify)"
   ]
  },
  {
   "cell_type": "code",
   "execution_count": 13,
   "id": "31403656",
   "metadata": {},
   "outputs": [],
   "source": [
    "import flask"
   ]
  },
  {
   "cell_type": "code",
   "execution_count": 14,
   "id": "d3e4bbd7",
   "metadata": {},
   "outputs": [
    {
     "data": {
      "text/plain": [
       "<module 'flask' from 'C:\\\\Users\\\\munis\\\\anaconda3\\\\lib\\\\site-packages\\\\flask\\\\__init__.py'>"
      ]
     },
     "execution_count": 14,
     "metadata": {},
     "output_type": "execute_result"
    }
   ],
   "source": []
  },
  {
   "cell_type": "code",
   "execution_count": null,
   "id": "9270acbf",
   "metadata": {},
   "outputs": [],
   "source": [
    "import streamlit as st \n",
    "import streamlit.components.v1 as components\n",
    "\n",
    "def main():\n",
    "    st.title('Recommendation')\n",
    "\n",
    "    html_temp2 = \"\"\"\n",
    "    <div style =\"background-color:royalblue;padding:10px;border-radius:10px\">\n",
    "    <h2 style=\"color:white;text-align:center;\">Spotify songsr </h2>\n",
    "        <h1 style=\"color:white;text-align:center;\">Recommendation</h1>\n",
    "    </div>\n",
    "    \"\"\"\n",
    "    components.html(html_temp2)\n",
    "\n",
    "    components.html(\"\"\"\n",
    "                <img src=\"https://www.tech-recipes.com/wp-content/uploads/2016/02/Spotify.png\" width=\"700\" height=\"150\">\n",
    "                \n",
    "                \"\"\")\n",
    "    name = st.text_input(\"Name of the song\", \"Type Here\")\n",
    "    year = st.text_input(\"Year\", \"Type Here\")\n",
    "\n",
    "    result = ''\n",
    "    result_year = ''\n",
    "    result_artist = ''\n",
    "\n",
    "    if st.button(\"Recommed\"):\n",
    "        input_data = [{'name': name, 'year': int(year)}]\n",
    "        recommend_songs(input_data, df_spotify)\n",
    "        st.success('The recommedation song is {}'.format(result))\n",
    "    \n",
    "\n"
   ]
  }
 ],
 "metadata": {
  "interpreter": {
   "hash": "839341a867caa07575d20a58f7ee9237d10d4b3d92142207c9cff347c278cde8"
  },
  "kernelspec": {
   "display_name": "Python 3",
   "language": "python",
   "name": "python3"
  },
  "language_info": {
   "codemirror_mode": {
    "name": "ipython",
    "version": 3
   },
   "file_extension": ".py",
   "mimetype": "text/x-python",
   "name": "python",
   "nbconvert_exporter": "python",
   "pygments_lexer": "ipython3",
   "version": "3.8.8"
  }
 },
 "nbformat": 4,
 "nbformat_minor": 5
}
