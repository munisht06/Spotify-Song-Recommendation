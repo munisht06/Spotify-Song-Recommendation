{
 "cells": [
  {
   "cell_type": "code",
   "execution_count": 141,
   "metadata": {},
   "outputs": [],
   "source": [
    "import numpy as np\n",
    "import pandas as pd\n",
    "import matplotlib.pyplot as plt\n",
    "import seaborn as sns\n",
    "import spotipy\n",
    "import os\n",
    "%matplotlib inline"
   ]
  },
  {
   "cell_type": "code",
   "execution_count": 142,
   "metadata": {},
   "outputs": [],
   "source": [
    "df_spotify = pd.read_csv('./data/data_o.csv')\n",
    "df_genre = pd.read_csv('./Data/data_by_genres_o.csv')\n",
    "df_by_year = pd.read_csv('./Data/data_by_year_o.csv')\n",
    "df_artist = pd.read_csv('./Data/data_by_artist_o.csv')"
   ]
  },
  {
   "cell_type": "markdown",
   "metadata": {},
   "source": [
    "<!-- df_artist.loc[data_artist['artists'] == 'Kendrick Lamar'] -->"
   ]
  },
  {
   "cell_type": "markdown",
   "metadata": {},
   "source": [
    "<!-- df_spotify.loc[(data_spotify.name == 'China')].head(1).values[0] -->"
   ]
  },
  {
   "cell_type": "markdown",
   "metadata": {},
   "source": [
    "<!-- import plotly.express as px\n",
    "\n",
    "sound_features = ['acousticness', 'danceability', 'energy', 'instrumentalness', 'liveness', 'valence']\n",
    "fig = px.line(df_by_year, x='year', y=sound_features)\n",
    "fig.show() -->"
   ]
  },
  {
   "cell_type": "markdown",
   "metadata": {},
   "source": [
    "<!-- # top10_genres = df_genre.nlargest(10, 'popularity')\n",
    "# top10_genres -->"
   ]
  },
  {
   "cell_type": "code",
   "execution_count": 143,
   "metadata": {},
   "outputs": [
    {
     "name": "stderr",
     "output_type": "stream",
     "text": [
      "C:\\Users\\munis\\anaconda3\\lib\\site-packages\\sklearn\\cluster\\_kmeans.py:792: FutureWarning: 'n_jobs' was deprecated in version 0.23 and will be removed in 1.0 (renaming of 0.25).\n",
      "  warnings.warn(\"'n_jobs' was deprecated in version 0.23 and will be\"\n"
     ]
    }
   ],
   "source": [
    "from sklearn.cluster import KMeans\n",
    "from sklearn.preprocessing import StandardScaler\n",
    "from sklearn.preprocessing import MinMaxScaler\n",
    "from sklearn.pipeline import Pipeline\n",
    "\n",
    "cluster_pipeline_song = Pipeline([('scaler', StandardScaler()), ('kmeans', KMeans(n_clusters=20, n_jobs=4))])\n",
    "X = df_spotify.select_dtypes(np.number)\n",
    "df_spotify['cluster'] = cluster_pipeline_song.fit_predict(X)\n"
   ]
  },
  {
   "cell_type": "code",
   "execution_count": 144,
   "metadata": {},
   "outputs": [
    {
     "name": "stdout",
     "output_type": "stream",
     "text": [
      "StandardScaler()\n"
     ]
    }
   ],
   "source": [
    "print(cluster_pipeline_song.steps[0][1])"
   ]
  },
  {
   "cell_type": "markdown",
   "metadata": {},
   "source": [
    "<!-- cluster_pipeline = Pipeline([('scaler', StandardScaler()), ('kmeans', KMeans(n_clusters=10))])\n",
    "X = df_genre.select_dtypes(np.number)\n",
    "df_genre['cluster'] = cluster_pipeline.fit_predict(X) -->"
   ]
  },
  {
   "cell_type": "markdown",
   "metadata": {
    "scrolled": true
   },
   "source": [
    "<!-- from sklearn.decomposition import PCA\n",
    "\n",
    "pca_pipeline = Pipeline([('scaler', StandardScaler()),('PCA', PCA(n_components=3))])\n",
    "pca_song = pca_pipeline.fit_transform(X)\n",
    "pca_projection = pd.DataFrame(columns=['x','y','z'], data=pca_song)\n",
    "pca_projection['Title'] = df_spotify['name']\n",
    "pca_projection['cluster'] = df_spotify['cluster']\n",
    "\n",
    "fig = px.scatter_3d(pca_projection, x='x',y='y',z='z',template=\"plotly_dark\", color='cluster',hover_data=['x','y','z','Title'])\n",
    "fig.show() -->"
   ]
  },
  {
   "cell_type": "code",
   "execution_count": 145,
   "metadata": {},
   "outputs": [],
   "source": [
    "df_spotify.drop_duplicates(subset='name',keep='first',inplace=True)"
   ]
  },
  {
   "cell_type": "code",
   "execution_count": 146,
   "metadata": {},
   "outputs": [
    {
     "data": {
      "text/html": [
       "<div>\n",
       "<style scoped>\n",
       "    .dataframe tbody tr th:only-of-type {\n",
       "        vertical-align: middle;\n",
       "    }\n",
       "\n",
       "    .dataframe tbody tr th {\n",
       "        vertical-align: top;\n",
       "    }\n",
       "\n",
       "    .dataframe thead th {\n",
       "        text-align: right;\n",
       "    }\n",
       "</style>\n",
       "<table border=\"1\" class=\"dataframe\">\n",
       "  <thead>\n",
       "    <tr style=\"text-align: right;\">\n",
       "      <th></th>\n",
       "      <th>valence</th>\n",
       "      <th>year</th>\n",
       "      <th>acousticness</th>\n",
       "      <th>artists</th>\n",
       "      <th>danceability</th>\n",
       "      <th>duration_ms</th>\n",
       "      <th>energy</th>\n",
       "      <th>explicit</th>\n",
       "      <th>id</th>\n",
       "      <th>instrumentalness</th>\n",
       "      <th>key</th>\n",
       "      <th>liveness</th>\n",
       "      <th>loudness</th>\n",
       "      <th>mode</th>\n",
       "      <th>name</th>\n",
       "      <th>popularity</th>\n",
       "      <th>release_date</th>\n",
       "      <th>speechiness</th>\n",
       "      <th>tempo</th>\n",
       "      <th>cluster</th>\n",
       "    </tr>\n",
       "  </thead>\n",
       "  <tbody>\n",
       "    <tr>\n",
       "      <th>11620</th>\n",
       "      <td>0.234</td>\n",
       "      <td>1980</td>\n",
       "      <td>0.000852</td>\n",
       "      <td>['Motörhead']</td>\n",
       "      <td>0.329</td>\n",
       "      <td>166920</td>\n",
       "      <td>0.974</td>\n",
       "      <td>0</td>\n",
       "      <td>6EPRKhUOdiFSQwGBRBbvsZ</td>\n",
       "      <td>0.000118</td>\n",
       "      <td>3</td>\n",
       "      <td>0.0904</td>\n",
       "      <td>-8.77</td>\n",
       "      <td>0</td>\n",
       "      <td>Ace of Spades</td>\n",
       "      <td>75</td>\n",
       "      <td>1980-11-08</td>\n",
       "      <td>0.135</td>\n",
       "      <td>140.862</td>\n",
       "      <td>11</td>\n",
       "    </tr>\n",
       "  </tbody>\n",
       "</table>\n",
       "</div>"
      ],
      "text/plain": [
       "       valence  year  acousticness        artists  danceability  duration_ms  \\\n",
       "11620    0.234  1980      0.000852  ['Motörhead']         0.329       166920   \n",
       "\n",
       "       energy  explicit                      id  instrumentalness  key  \\\n",
       "11620   0.974         0  6EPRKhUOdiFSQwGBRBbvsZ          0.000118    3   \n",
       "\n",
       "       liveness  loudness  mode           name  popularity release_date  \\\n",
       "11620    0.0904     -8.77     0  Ace of Spades          75   1980-11-08   \n",
       "\n",
       "       speechiness    tempo  cluster  \n",
       "11620        0.135  140.862       11  "
      ]
     },
     "execution_count": 146,
     "metadata": {},
     "output_type": "execute_result"
    }
   ],
   "source": [
    "df_spotify[df_spotify.name == 'Ace of Spades']"
   ]
  },
  {
   "cell_type": "code",
   "execution_count": 6,
   "metadata": {},
   "outputs": [],
   "source": [
    "# num_features = df_spotify.select_dtypes(np.number).columns\n",
    "number_cols = ['valence', 'year', 'acousticness', 'danceability', 'duration_ms', 'energy', 'explicit',\n",
    " 'instrumentalness', 'key', 'liveness', 'loudness', 'mode', 'popularity', 'speechiness', 'tempo']\n",
    "for col in number_cols:\n",
    "    df_spotify[col] = (df_spotify[col] - df_spotify[col].min())/(df_spotify[col].max() - df_spotify[col].min())"
   ]
  },
  {
   "cell_type": "code",
   "execution_count": 147,
   "metadata": {},
   "outputs": [],
   "source": [
    "number_cols = ['valence', 'year', 'acousticness', 'danceability', 'duration_ms', 'energy', 'explicit',\n",
    " 'instrumentalness', 'key', 'liveness', 'loudness', 'mode', 'popularity', 'speechiness', 'tempo']"
   ]
  },
  {
   "cell_type": "code",
   "execution_count": 148,
   "metadata": {},
   "outputs": [],
   "source": [
    "from spotipy.oauth2 import SpotifyClientCredentials\n",
    "from collections import defaultdict\n",
    "import spotify_api as cred\n",
    "\n",
    "sp = spotipy.Spotify(auth_manager=SpotifyClientCredentials(client_id=cred.CLIENT_ID, client_secret=cred.CLIENT_SECRET))"
   ]
  },
  {
   "cell_type": "code",
   "execution_count": 149,
   "metadata": {},
   "outputs": [],
   "source": [
    "# https://www.kaggle.com/artempozdniakov/spotify-data-eda-and-music-recommendation\n",
    "def search_song(name, year):\n",
    "    song_data = defaultdict()\n",
    "    results = sp.search(q='track: {} year: {}'.format(name, year), limit=1)\n",
    "    if results['tracks']['items'] == []:\n",
    "        return None\n",
    "    \n",
    "    results = results['tracks']['items'][0]\n",
    "\n",
    "    audio_features = sp.audio_features(results['id'])[0]\n",
    "    \n",
    "    song_data['name'] = [name]\n",
    "    song_data['year'] = [year]\n",
    "    song_data['explicit'] = [int(results['explicit'])]\n",
    "    song_data['duration_ms'] = [results['duration_ms']]\n",
    "    song_data['popularity'] = [results['popularity']]\n",
    "    \n",
    "    for k,v in audio_features.items():\n",
    "        song_data[k] = v\n",
    "    \n",
    "    return pd.DataFrame(song_data)"
   ]
  },
  {
   "cell_type": "code",
   "execution_count": 156,
   "metadata": {},
   "outputs": [],
   "source": [
    "from scipy.spatial.distance import cdist\n",
    "from sklearn.metrics import euclidean_distances\n",
    "import difflib\n",
    "\n",
    "def get_mean_vector(song_list, spotify_data):\n",
    "    song_vectors = []\n",
    "    for song in song_list:\n",
    "        song_data = None\n",
    "        try:\n",
    "            song_data = spotify_data[(spotify_data['name'].str.lower() == song['name'].lower()) &\n",
    "                                     (spotify_data['year'] == song['year'])].iloc[0]\n",
    "        except IndexError:\n",
    "            song_data = search_song(song['name'], song['year'])\n",
    "        if song_data is None:\n",
    "            print('Song not found')\n",
    "            continue\n",
    "        song_vectors.append(song_data[number_cols].values)\n",
    "\n",
    "    return np.mean(np.array(song_vectors,dtype=\"object\"), axis=0)\n",
    "\n",
    "def combined_data_dict(dict_list):\n",
    "    combined_data = {}\n",
    "    for dictionary in dict_list:\n",
    "        for key, value in dictionary.items():\n",
    "            if key in combined_data.keys():\n",
    "                combined_data[key].append(value)\n",
    "            else:\n",
    "                combined_data[key] = [value]\n",
    "    return combined_data\n",
    "def recommend_songs(song_list, spotify_data, n_songs=10):\n",
    "    metadata_cols = ['name', 'year', 'artists']\n",
    "    song_dict = combined_data_dict(song_list)\n",
    "    \n",
    "    song_center = get_mean_vector(song_list, spotify_data)\n",
    "    scaler = StandardScaler().fit(spotify_data[number_cols])\n",
    "    scaled_data = scaler.transform(spotify_data[number_cols])\n",
    "    scaled_song_center = scaler.transform(song_center.reshape(1,-1))\n",
    "    distances = cdist(scaled_song_center, scaled_data, 'cosine')\n",
    "    index = list(np.argsort(distances)[:, :n_songs][0])\n",
    "    \n",
    "    rec_songs = spotify_data.iloc[index]\n",
    "    rec_songs = rec_songs[~rec_songs['name'].isin(song_dict['name'])]\n",
    "    return rec_songs[metadata_cols].to_dict(orient='records')"
   ]
  },
  {
   "cell_type": "code",
   "execution_count": 157,
   "metadata": {},
   "outputs": [
    {
     "data": {
      "text/plain": [
       "{'name': {36469: 'Life is a Highway - From \"Cars\"',\n",
       "  13945: 'Of Wolf And Man',\n",
       "  16066: 'Somebody Like You',\n",
       "  86722: 'Kayleigh',\n",
       "  33667: 'Corazón Mágico',\n",
       "  17585: 'Little Secrets',\n",
       "  17310: 'If Today Was Your Last Day',\n",
       "  14462: 'No Excuses',\n",
       "  53719: \"Things I'll Never Say\",\n",
       "  32963: \"Let's Get Rocked\"},\n",
       " 'year': {36469: 2009,\n",
       "  13945: 1991,\n",
       "  16066: 2002,\n",
       "  86722: 1992,\n",
       "  33667: 1995,\n",
       "  17585: 2009,\n",
       "  17310: 2008,\n",
       "  14462: 1994,\n",
       "  53719: 2002,\n",
       "  32963: 1992},\n",
       " 'artists': {36469: \"['Rascal Flatts']\",\n",
       "  13945: \"['Metallica']\",\n",
       "  16066: \"['Keith Urban']\",\n",
       "  86722: \"['Marillion']\",\n",
       "  33667: \"['Los Fugitivos']\",\n",
       "  17585: \"['Passion Pit']\",\n",
       "  17310: \"['Nickelback']\",\n",
       "  14462: \"['Alice In Chains']\",\n",
       "  53719: \"['Avril Lavigne']\",\n",
       "  32963: \"['Def Leppard']\"}}"
      ]
     },
     "execution_count": 157,
     "metadata": {},
     "output_type": "execute_result"
    }
   ],
   "source": [
    "recommend_songs([{'name': 'Come As You Are', 'year':1991},\n",
    "                {'name': 'Smells Like Teen Spirit', 'year': 1991},\n",
    "                {'name': 'Lithium', 'year': 1992},\n",
    "                {'name': 'All Apologies', 'year': 1993},\n",
    "                {'name': 'Stay Away', 'year': 1993}],  df_spotify)"
   ]
  },
  {
   "cell_type": "code",
   "execution_count": 138,
   "metadata": {},
   "outputs": [],
   "source": [
    "# def song_data(song_name, year):\n",
    "#     try:\n",
    "#         song_data = df_spotify[(df_spotify['name'].str.lower() == song_name.lower()) & (df_spotify['year'] == year)].iloc[0]\n",
    "#         return song_data\n",
    "#     except IndexError:\n",
    "#         return search_song(song_name, year)\n",
    "# song_data('Lithium', 1992)"
   ]
  },
  {
   "cell_type": "code",
   "execution_count": 11,
   "metadata": {
    "scrolled": true
   },
   "outputs": [],
   "source": [
    "# def get_recommendation(song_name, num_songs = 1):\n",
    "def song_recommendation(song_name, year, num_song=1):\n",
    "    selected_song = song_data(song_name, year)\n",
    "#     selected_song = df_spotify[df_spotify.name.str.lower() == song_name.lower()].head(1)\n",
    "#     song_genre = selected_song['cluster']\n",
    "#     print(selected_song)\n",
    "    selected_song = selected_song[number_cols].values\n",
    "    remaining_songs = df_spotify[df_spotify.name.str.lower() != song_name.lower()]\n",
    "#     remaining_songs = remaining_songs[remaining_songs.cluster == int(song_genre)]\n",
    "    rest_num_feat = remaining_songs[number_cols].to_numpy()\n",
    "    dist = []\n",
    "    for i in range(len(rest_num_feat)):\n",
    "        euclidean_dist = np.linalg.norm(selected_song-rest_num_feat[i])\n",
    "        dist += [euclidean_dist]\n",
    "#     remaining_songs.loc[:,'distance'] = dist\n",
    "    remaining_songs=remaining_songs.assign(distance=dist)\n",
    "    remaining_songs=remaining_songs.sort_values('distance', ascending=True)\n",
    "    remaining_songs.reset_index(inplace=True)\n",
    "    return remaining_songs[['name','artists','year']][:num_song]\n"
   ]
  },
  {
   "cell_type": "code",
   "execution_count": 13,
   "metadata": {},
   "outputs": [
    {
     "data": {
      "text/html": [
       "<div>\n",
       "<style scoped>\n",
       "    .dataframe tbody tr th:only-of-type {\n",
       "        vertical-align: middle;\n",
       "    }\n",
       "\n",
       "    .dataframe tbody tr th {\n",
       "        vertical-align: top;\n",
       "    }\n",
       "\n",
       "    .dataframe thead th {\n",
       "        text-align: right;\n",
       "    }\n",
       "</style>\n",
       "<table border=\"1\" class=\"dataframe\">\n",
       "  <thead>\n",
       "    <tr style=\"text-align: right;\">\n",
       "      <th></th>\n",
       "      <th>name</th>\n",
       "      <th>artists</th>\n",
       "      <th>year</th>\n",
       "    </tr>\n",
       "  </thead>\n",
       "  <tbody>\n",
       "    <tr>\n",
       "      <th>0</th>\n",
       "      <td>Brown Noise - 90 Minutes</td>\n",
       "      <td>['Sound Dreamer']</td>\n",
       "      <td>0.929293</td>\n",
       "    </tr>\n",
       "    <tr>\n",
       "      <th>1</th>\n",
       "      <td>Brown Noise for Sleep</td>\n",
       "      <td>['Sounds for Life']</td>\n",
       "      <td>0.888889</td>\n",
       "    </tr>\n",
       "    <tr>\n",
       "      <th>2</th>\n",
       "      <td>Midnight Thunderstorm Part 2</td>\n",
       "      <td>['Lightning, Thunder and Rain Storm']</td>\n",
       "      <td>0.888889</td>\n",
       "    </tr>\n",
       "    <tr>\n",
       "      <th>3</th>\n",
       "      <td>Natural White Noise for Babies - Ocean Waves f...</td>\n",
       "      <td>['One Hour Gulf Coast Ocean Waves']</td>\n",
       "      <td>0.898990</td>\n",
       "    </tr>\n",
       "    <tr>\n",
       "      <th>4</th>\n",
       "      <td>Ocean Waves for Sleep</td>\n",
       "      <td>['Ocean Waves For Sleep']</td>\n",
       "      <td>0.898990</td>\n",
       "    </tr>\n",
       "    <tr>\n",
       "      <th>5</th>\n",
       "      <td>Dopesmoker</td>\n",
       "      <td>['Sleep']</td>\n",
       "      <td>0.828283</td>\n",
       "    </tr>\n",
       "    <tr>\n",
       "      <th>6</th>\n",
       "      <td>Thursday Afternoon - 2005 Digital Remaster</td>\n",
       "      <td>['Brian Eno']</td>\n",
       "      <td>0.646465</td>\n",
       "    </tr>\n",
       "    <tr>\n",
       "      <th>7</th>\n",
       "      <td>Raba El Adawya Pt. 2</td>\n",
       "      <td>['Umm Kulthum']</td>\n",
       "      <td>0.252525</td>\n",
       "    </tr>\n",
       "    <tr>\n",
       "      <th>8</th>\n",
       "      <td>The Psychologically Ultimate Seashore (16 rpm)</td>\n",
       "      <td>['Environments']</td>\n",
       "      <td>0.484848</td>\n",
       "    </tr>\n",
       "    <tr>\n",
       "      <th>9</th>\n",
       "      <td>Enta Omry</td>\n",
       "      <td>['Umm Kulthum']</td>\n",
       "      <td>0.454545</td>\n",
       "    </tr>\n",
       "  </tbody>\n",
       "</table>\n",
       "</div>"
      ],
      "text/plain": [
       "                                                name  \\\n",
       "0                           Brown Noise - 90 Minutes   \n",
       "1                              Brown Noise for Sleep   \n",
       "2                       Midnight Thunderstorm Part 2   \n",
       "3  Natural White Noise for Babies - Ocean Waves f...   \n",
       "4                              Ocean Waves for Sleep   \n",
       "5                                         Dopesmoker   \n",
       "6         Thursday Afternoon - 2005 Digital Remaster   \n",
       "7                               Raba El Adawya Pt. 2   \n",
       "8     The Psychologically Ultimate Seashore (16 rpm)   \n",
       "9                                          Enta Omry   \n",
       "\n",
       "                                 artists      year  \n",
       "0                      ['Sound Dreamer']  0.929293  \n",
       "1                    ['Sounds for Life']  0.888889  \n",
       "2  ['Lightning, Thunder and Rain Storm']  0.888889  \n",
       "3    ['One Hour Gulf Coast Ocean Waves']  0.898990  \n",
       "4              ['Ocean Waves For Sleep']  0.898990  \n",
       "5                              ['Sleep']  0.828283  \n",
       "6                          ['Brian Eno']  0.646465  \n",
       "7                        ['Umm Kulthum']  0.252525  \n",
       "8                       ['Environments']  0.484848  \n",
       "9                        ['Umm Kulthum']  0.454545  "
      ]
     },
     "execution_count": 13,
     "metadata": {},
     "output_type": "execute_result"
    }
   ],
   "source": [
    "song_recommendation('Goodbye', 2021, num_song=10)"
   ]
  },
  {
   "cell_type": "code",
   "execution_count": null,
   "metadata": {},
   "outputs": [],
   "source": []
  }
 ],
 "metadata": {
  "interpreter": {
   "hash": "04c7d21fa98ac47a8f550aa28622c1b748a42914378d5d12e15013fad461509f"
  },
  "kernelspec": {
   "display_name": "Python 3",
   "language": "python",
   "name": "python3"
  },
  "language_info": {
   "codemirror_mode": {
    "name": "ipython",
    "version": 3
   },
   "file_extension": ".py",
   "mimetype": "text/x-python",
   "name": "python",
   "nbconvert_exporter": "python",
   "pygments_lexer": "ipython3",
   "version": "3.8.8"
  }
 },
 "nbformat": 4,
 "nbformat_minor": 4
}
